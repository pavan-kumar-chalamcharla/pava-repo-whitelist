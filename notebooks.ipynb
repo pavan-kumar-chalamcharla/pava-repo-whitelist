{
 "cells": [
  {
   "cell_type": "markdown",
   "metadata": {
    "application/vnd.databricks.v1+cell": {
     "cellMetadata": {},
     "inputWidgets": {},
     "nuid": "3b709fe6-aff1-41f2-8b0d-db6f88042e8a",
     "showTitle": false,
     "title": ""
    }
   },
   "source": [
    "(file-types:notebooks)=\n",
    "# Jupyter Notebook files\n",
    "\n",
    "You can create content with Jupyter notebooks.\n",
    "For example, the content for the current page is contained in {download}`this notebook file <./notebooks.ipynb>`.\n",
    "\n",
    "```{margin}\n",
    "If you'd like to write in plain-text files, but still keep a notebook structure, you can write\n",
    "Jupyter notebooks with MyST Markdown, which are then automatically converted to notebooks.\n",
    "See [](./myst-notebooks.md) for more details.\n",
    "```\n",
    "\n",
    "Jupyter Book supports all Markdown that is supported by Jupyter Notebook.\n",
    "This is mostly a flavour of Markdown called [CommonMark Markdown](https://commonmark.org/) with minor modifications.\n",
    "For more information about writing Jupyter-flavoured Markdown in Jupyter Book, see [](./markdown.md).\n",
    "\n",
    "## Code blocks and image outputs\n",
    "\n",
    "Jupyter Book will also embed your code blocks and output in your book.\n",
    "For example, here's some sample Matplotlib code:"
   ]
  },
  {
   "cell_type": "code",
   "execution_count": 0,
   "metadata": {
    "application/vnd.databricks.v1+cell": {
     "cellMetadata": {},
     "inputWidgets": {},
     "nuid": "37f8485f-e4d3-4498-b50d-e64a819c47da",
     "showTitle": false,
     "title": ""
    }
   },
   "outputs": [],
   "source": [
    "from matplotlib import rcParams, cycler\n",
    "import matplotlib.pyplot as plt\n",
    "import numpy as np\n",
    "plt.ion()"
   ]
  },
  {
   "cell_type": "code",
   "execution_count": 0,
   "metadata": {
    "application/vnd.databricks.v1+cell": {
     "cellMetadata": {},
     "inputWidgets": {},
     "nuid": "2828d0ef-4b70-4826-aa88-2987826cec34",
     "showTitle": false,
     "title": ""
    },
    "tags": [
     "remove-stdout"
    ]
   },
   "outputs": [],
   "source": [
    "# Fixing random state for reproducibility\n",
    "np.random.seed(19680801)\n",
    "\n",
    "N = 10\n",
    "data = [np.logspace(0, 1, 100) + np.random.randn(100) + ii for ii in range(N)]\n",
    "data = np.array(data).T\n",
    "cmap = plt.cm.coolwarm\n",
    "rcParams['axes.prop_cycle'] = cycler(color=cmap(np.linspace(0, 1, N)))\n",
    "\n",
    "\n",
    "from matplotlib.lines import Line2D\n",
    "custom_lines = [Line2D([0], [0], color=cmap(0.), lw=4),\n",
    "                Line2D([0], [0], color=cmap(.5), lw=4),\n",
    "                Line2D([0], [0], color=cmap(1.), lw=4)]\n",
    "\n",
    "fig, ax = plt.subplots(figsize=(10, 5))\n",
    "lines = ax.plot(data)\n",
    "ax.legend(custom_lines, ['Cold', 'Medium', 'Hot']);"
   ]
  },
  {
   "cell_type": "markdown",
   "metadata": {
    "application/vnd.databricks.v1+cell": {
     "cellMetadata": {},
     "inputWidgets": {},
     "nuid": "22b92eaf-a8cb-4e41-9052-b4811f3c560d",
     "showTitle": false,
     "title": ""
    }
   },
   "source": [
    "Note that the image above is captured and displayed in your site."
   ]
  },
  {
   "cell_type": "code",
   "execution_count": 0,
   "metadata": {
    "application/vnd.databricks.v1+cell": {
     "cellMetadata": {},
     "inputWidgets": {},
     "nuid": "e8dd5e84-3d3b-4080-aa90-44aec52223ca",
     "showTitle": false,
     "title": ""
    },
    "tags": [
     "popout",
     "remove-input",
     "remove-stdout"
    ]
   },
   "outputs": [],
   "source": [
    "# Fixing random state for reproducibility\n",
    "np.random.seed(19680801)\n",
    "\n",
    "N = 10\n",
    "data = [np.logspace(0, 1, 100) + .1*np.random.randn(100) + ii for ii in range(N)]\n",
    "data = np.array(data).T\n",
    "cmap = plt.cm.coolwarm\n",
    "rcParams['axes.prop_cycle'] = cycler(color=cmap(np.linspace(0, 1, N)))\n",
    "\n",
    "\n",
    "from matplotlib.lines import Line2D\n",
    "custom_lines = [Line2D([0], [0], color=cmap(0.), lw=4),\n",
    "                Line2D([0], [0], color=cmap(.5), lw=4),\n",
    "                Line2D([0], [0], color=cmap(1.), lw=4)]\n",
    "\n",
    "fig, ax = plt.subplots(figsize=(10, 5))\n",
    "lines = ax.plot(data)\n",
    "ax.legend(custom_lines, ['Cold', 'Medium', 'Hot'])\n",
    "ax.set(title=\"Smoother linez\")"
   ]
  },
  {
   "cell_type": "markdown",
   "metadata": {
    "application/vnd.databricks.v1+cell": {
     "cellMetadata": {},
     "inputWidgets": {},
     "nuid": "aee2dbb2-3c5d-420e-8a71-bbfc42072985",
     "showTitle": false,
     "title": ""
    },
    "tags": [
     "popout"
    ]
   },
   "source": [
    "```{margin} **You can also pop out content to the side!**\n",
    "For more information on how to do this,\n",
    "check out the {ref}`layout/sidebar` section.\n",
    "```"
   ]
  },
  {
   "cell_type": "markdown",
   "metadata": {
    "application/vnd.databricks.v1+cell": {
     "cellMetadata": {},
     "inputWidgets": {},
     "nuid": "529f3f1f-8e41-4d50-889f-1267c8b52b48",
     "showTitle": false,
     "title": ""
    }
   },
   "source": [
    "## Removing content before publishing\n",
    "\n",
    "You can also remove some content before publishing your book to the web. \n",
    "For reference, {download}`you can download the notebook content for this page <notebooks.ipynb>`."
   ]
  },
  {
   "cell_type": "code",
   "execution_count": 0,
   "metadata": {
    "application/vnd.databricks.v1+cell": {
     "cellMetadata": {},
     "inputWidgets": {},
     "nuid": "837eaafb-746b-4452-85db-23ad9482153a",
     "showTitle": false,
     "title": ""
    },
    "tags": [
     "remove-cell"
    ]
   },
   "outputs": [],
   "source": [
    "thisvariable = \"none of this should show up in the textbook\"\n",
    "\n",
    "fig, ax = plt.subplots()\n",
    "x = np.random.randn(100)\n",
    "y = np.random.randn(100)\n",
    "ax.scatter(x, y, s=np.abs(x*100), c=x, cmap=plt.cm.coolwarm)\n",
    "ax.text(0, .5, thisvariable, fontsize=20, transform=ax.transAxes)\n",
    "ax.set_axis_off()"
   ]
  },
  {
   "cell_type": "markdown",
   "metadata": {
    "application/vnd.databricks.v1+cell": {
     "cellMetadata": {},
     "inputWidgets": {},
     "nuid": "59b4fc6f-1049-40b7-bf07-4b7851f1568b",
     "showTitle": false,
     "title": ""
    }
   },
   "source": [
    "You can **remove only the code** so that images and other output still show up."
   ]
  },
  {
   "cell_type": "code",
   "execution_count": 0,
   "metadata": {
    "application/vnd.databricks.v1+cell": {
     "cellMetadata": {},
     "inputWidgets": {},
     "nuid": "997cf471-a2a6-4fe9-99e2-a7571cdc520d",
     "showTitle": false,
     "title": ""
    },
    "tags": [
     "hide-input"
    ]
   },
   "outputs": [],
   "source": [
    "thisvariable = \"this plot *will* show up in the textbook.\"\n",
    "\n",
    "fig, ax = plt.subplots()\n",
    "x = np.random.randn(100)\n",
    "y = np.random.randn(100)\n",
    "ax.scatter(x, y, s=np.abs(x*100), c=x, cmap=plt.cm.coolwarm)\n",
    "ax.text(0, .5, thisvariable, fontsize=20, transform=ax.transAxes)\n",
    "ax.set_axis_off()"
   ]
  },
  {
   "cell_type": "markdown",
   "metadata": {
    "application/vnd.databricks.v1+cell": {
     "cellMetadata": {},
     "inputWidgets": {},
     "nuid": "a97f7504-8ca1-4b88-845f-3808327b4527",
     "showTitle": false,
     "title": ""
    }
   },
   "source": [
    "Which works well if you'd like to quickly display cell output without cluttering your content with code.\n",
    "This works for any cell output, like a Pandas DataFrame."
   ]
  },
  {
   "cell_type": "code",
   "execution_count": 0,
   "metadata": {
    "application/vnd.databricks.v1+cell": {
     "cellMetadata": {},
     "inputWidgets": {},
     "nuid": "788aeb04-d1c4-4561-873f-52702f4b9d97",
     "showTitle": false,
     "title": ""
    },
    "tags": [
     "hide-input"
    ]
   },
   "outputs": [],
   "source": [
    "import pandas as pd\n",
    "pd.DataFrame([['hi', 'there'], ['this', 'is'], ['a', 'DataFrame']], columns=['Word A', 'Word B'])"
   ]
  },
  {
   "cell_type": "markdown",
   "metadata": {
    "application/vnd.databricks.v1+cell": {
     "cellMetadata": {},
     "inputWidgets": {},
     "nuid": "a61c24a4-a9e2-45d7-942c-b94c0df1bc77",
     "showTitle": false,
     "title": ""
    }
   },
   "source": [
    "See {ref}`hiding/remove-content` for more information about hiding and removing content."
   ]
  },
  {
   "cell_type": "markdown",
   "metadata": {
    "application/vnd.databricks.v1+cell": {
     "cellMetadata": {},
     "inputWidgets": {},
     "nuid": "27cc89b4-225c-48e4-87f8-faeb73457f14",
     "showTitle": false,
     "title": ""
    }
   },
   "source": [
    "## Interactive outputs\n",
    "\n",
    "We can do the same for *interactive* material. Below we'll display a map\n",
    "using [folium](https://python-visualization.github.io/folium/). When your book is built,\n",
    "the code for creating the interactive map is retained.\n",
    "\n",
    "```{margin}\n",
    "**This will only work for some packages.** They need to be able to output standalone\n",
    "HTML/Javascript, and not\n",
    "depend on an underlying Python kernel to work.\n",
    "```"
   ]
  },
  {
   "cell_type": "code",
   "execution_count": 0,
   "metadata": {
    "application/vnd.databricks.v1+cell": {
     "cellMetadata": {},
     "inputWidgets": {},
     "nuid": "6623492d-8503-43c9-b467-489593ad7b33",
     "showTitle": false,
     "title": ""
    }
   },
   "outputs": [],
   "source": [
    "import folium\n",
    "m = folium.Map(\n",
    "    location=[45.372, -121.6972],\n",
    "    zoom_start=12,\n",
    "    tiles='Stamen Terrain'\n",
    ")\n",
    "\n",
    "folium.Marker(\n",
    "    location=[45.3288, -121.6625],\n",
    "    popup='Mt. Hood Meadows',\n",
    "    icon=folium.Icon(icon='cloud')\n",
    ").add_to(m)\n",
    "\n",
    "folium.Marker(\n",
    "    location=[45.3311, -121.7113],\n",
    "    popup='Timberline Lodge',\n",
    "    icon=folium.Icon(color='green')\n",
    ").add_to(m)\n",
    "\n",
    "folium.Marker(\n",
    "    location=[45.3300, -121.6823],\n",
    "    popup='Some Other Location',\n",
    "    icon=folium.Icon(color='red', icon='info-sign')\n",
    ").add_to(m)\n",
    "\n",
    "m"
   ]
  },
  {
   "cell_type": "markdown",
   "metadata": {
    "application/vnd.databricks.v1+cell": {
     "cellMetadata": {},
     "inputWidgets": {},
     "nuid": "b9cdd9c7-4e4a-47a3-9054-ce992b93234a",
     "showTitle": false,
     "title": ""
    }
   },
   "source": [
    "## Rich outputs from notebook cells"
   ]
  },
  {
   "cell_type": "markdown",
   "metadata": {
    "application/vnd.databricks.v1+cell": {
     "cellMetadata": {},
     "inputWidgets": {},
     "nuid": "2b898d33-bcc9-42e9-a224-3f876bd53803",
     "showTitle": false,
     "title": ""
    }
   },
   "source": [
    "Because notebooks have rich text outputs, you can store these in\n",
    "your Jupyter Book as well! For example, here is the command line help\n",
    "menu, see how it is nicely formatted."
   ]
  },
  {
   "cell_type": "code",
   "execution_count": 0,
   "metadata": {
    "application/vnd.databricks.v1+cell": {
     "cellMetadata": {},
     "inputWidgets": {},
     "nuid": "5f5a14ee-619b-4f27-bfd7-17439f2d040a",
     "showTitle": false,
     "title": ""
    }
   },
   "outputs": [],
   "source": [
    "!jupyter-book build --help"
   ]
  },
  {
   "cell_type": "markdown",
   "metadata": {
    "application/vnd.databricks.v1+cell": {
     "cellMetadata": {},
     "inputWidgets": {},
     "nuid": "1e07d508-bcf6-4d04-bb02-ffc66b0b51b1",
     "showTitle": false,
     "title": ""
    }
   },
   "source": [
    "And here is an error. You can mark notebook cells as \"expected to error\" by adding a\n",
    "`raises-exception` tag to them."
   ]
  },
  {
   "cell_type": "code",
   "execution_count": 0,
   "metadata": {
    "application/vnd.databricks.v1+cell": {
     "cellMetadata": {},
     "inputWidgets": {},
     "nuid": "60a0d4a4-6f87-4ca5-9377-868ec1e2ea16",
     "showTitle": false,
     "title": ""
    },
    "tags": [
     "raises-exception"
    ]
   },
   "outputs": [],
   "source": [
    "this_will_error"
   ]
  },
  {
   "cell_type": "markdown",
   "metadata": {
    "application/vnd.databricks.v1+cell": {
     "cellMetadata": {},
     "inputWidgets": {},
     "nuid": "5dd3e966-f2cf-4bcb-9ede-6bb3a7d29146",
     "showTitle": false,
     "title": ""
    }
   },
   "source": [
    "## More features with Jupyter notebooks\n",
    "\n",
    "There are many other features of Jupyter notebooks to take advantage of,\n",
    "such as automatically generating Binder links for notebooks or connecting your content with a kernel in the cloud.\n",
    "For more information browse the pages in this site, and [](content:code-outputs) in particular."
   ]
  },
  {
   "cell_type": "code",
   "execution_count": 0,
   "metadata": {
    "application/vnd.databricks.v1+cell": {
     "cellMetadata": {},
     "inputWidgets": {},
     "nuid": "299e9905-b3b6-444e-a8cd-8f53b537f07a",
     "showTitle": false,
     "title": ""
    }
   },
   "outputs": [],
   "source": [
    "testing pavan"
   ]
  }
 ],
 "metadata": {
  "application/vnd.databricks.v1+notebook": {
   "dashboards": [],
   "language": "python",
   "notebookMetadata": {
    "pythonIndentUnit": 4
   },
   "notebookName": "notebooks",
   "notebookOrigID": 2377685336472029,
   "widgets": {}
  },
  "kernelspec": {
   "display_name": "Python 3",
   "language": "python",
   "name": "python3"
  },
  "language_info": {
   "codemirror_mode": {
    "name": "ipython",
    "version": 3
   },
   "file_extension": ".py",
   "mimetype": "text/x-python",
   "name": "python",
   "nbconvert_exporter": "python",
   "pygments_lexer": "ipython3",
   "version": "3.7.6"
  },
  "toc": {
   "base_numbering": 1,
   "nav_menu": {},
   "number_sections": false,
   "sideBar": true,
   "skip_h1_title": false,
   "title_cell": "Table of Contents",
   "title_sidebar": "Contents",
   "toc_cell": false,
   "toc_position": {},
   "toc_section_display": true,
   "toc_window_display": false
  }
 },
 "nbformat": 4,
 "nbformat_minor": 0
}
